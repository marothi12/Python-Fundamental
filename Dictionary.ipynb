{
 "cells": [
  {
   "cell_type": "markdown",
   "id": "0c6270ae-389d-4822-b9b4-d7de17b3e9cf",
   "metadata": {},
   "source": [
    "## CREATE DICTIONARY ##"
   ]
  },
  {
   "cell_type": "code",
   "execution_count": 2,
   "id": "371ec61e-7343-4e10-9402-576ed66c5991",
   "metadata": {},
   "outputs": [
    {
     "data": {
      "text/plain": [
       "{}"
      ]
     },
     "execution_count": 2,
     "metadata": {},
     "output_type": "execute_result"
    }
   ],
   "source": [
    "mydict = dict()\n",
    "mydict"
   ]
  },
  {
   "cell_type": "code",
   "execution_count": 4,
   "id": "2ad06234-95ff-4dce-809f-d44212994fb5",
   "metadata": {},
   "outputs": [
    {
     "data": {
      "text/plain": [
       "{}"
      ]
     },
     "execution_count": 4,
     "metadata": {},
     "output_type": "execute_result"
    }
   ],
   "source": [
    "mydict = {}\n",
    "mydict"
   ]
  },
  {
   "cell_type": "code",
   "execution_count": 6,
   "id": "629dddd0-c31e-41d5-9196-88b4fa2d99eb",
   "metadata": {},
   "outputs": [],
   "source": [
    "mydict = {1:'one',2:'two',3:'two'}"
   ]
  },
  {
   "cell_type": "code",
   "execution_count": 8,
   "id": "f6caac26-e641-43e5-a4ae-ebcc1cba7046",
   "metadata": {},
   "outputs": [
    {
     "data": {
      "text/plain": [
       "{1: 'one', 2: 'two', 3: 'two'}"
      ]
     },
     "execution_count": 8,
     "metadata": {},
     "output_type": "execute_result"
    }
   ],
   "source": [
    "mydict"
   ]
  },
  {
   "cell_type": "code",
   "execution_count": 12,
   "id": "1d833027-bc09-4a14-8321-ed2336cd866c",
   "metadata": {},
   "outputs": [
    {
     "data": {
      "text/plain": [
       "{1: 'one', 2: 'two', 3: 'three'}"
      ]
     },
     "execution_count": 12,
     "metadata": {},
     "output_type": "execute_result"
    }
   ],
   "source": [
    "mydict  = dict({1:'one',2:'two',3:'three'})\n",
    "mydict"
   ]
  },
  {
   "cell_type": "code",
   "execution_count": 14,
   "id": "ede8231f-f471-4ca0-9295-3ded836286e6",
   "metadata": {},
   "outputs": [
    {
     "data": {
      "text/plain": [
       "{'A': 'one', 2: 'two', 3: 'three'}"
      ]
     },
     "execution_count": 14,
     "metadata": {},
     "output_type": "execute_result"
    }
   ],
   "source": [
    "my_dict = {'A':'one',2:'two',3:'three'}\n",
    "my_dict"
   ]
  },
  {
   "cell_type": "code",
   "execution_count": 17,
   "id": "f94fb668-f664-45c5-9cea-1fc163f03043",
   "metadata": {},
   "outputs": [
    {
     "data": {
      "text/plain": [
       "dict_keys(['A', 2, 3])"
      ]
     },
     "execution_count": 17,
     "metadata": {},
     "output_type": "execute_result"
    }
   ],
   "source": [
    "my_dict.keys()"
   ]
  },
  {
   "cell_type": "code",
   "execution_count": 19,
   "id": "811cbc79-42ac-4b89-9a89-9b1a05f3d6f5",
   "metadata": {},
   "outputs": [
    {
     "data": {
      "text/plain": [
       "dict_values(['one', 'two', 'three'])"
      ]
     },
     "execution_count": 19,
     "metadata": {},
     "output_type": "execute_result"
    }
   ],
   "source": [
    "my_dict.values()"
   ]
  },
  {
   "cell_type": "code",
   "execution_count": 21,
   "id": "885a4764-3c3c-4884-b336-015fa7ef75d7",
   "metadata": {},
   "outputs": [
    {
     "data": {
      "text/plain": [
       "dict_items([(1, 'one'), (2, 'two'), (3, 'three')])"
      ]
     },
     "execution_count": 21,
     "metadata": {},
     "output_type": "execute_result"
    }
   ],
   "source": [
    "mydict.items()"
   ]
  },
  {
   "cell_type": "code",
   "execution_count": 26,
   "id": "ddc534c1-ef82-4e1c-bdc0-59f0f153f675",
   "metadata": {},
   "outputs": [
    {
     "data": {
      "text/plain": [
       "{1: 'one', 2: 'two', 'A': ['asitf', 'john', 'Maria']}"
      ]
     },
     "execution_count": 26,
     "metadata": {},
     "output_type": "execute_result"
    }
   ],
   "source": [
    "my_dict = {1:'one',2:'two','A':['asitf','john','Maria']}\n",
    "my_dict"
   ]
  },
  {
   "cell_type": "code",
   "execution_count": 29,
   "id": "9821878b-2831-4520-bc8f-67dd48dbea06",
   "metadata": {},
   "outputs": [
    {
     "data": {
      "text/plain": [
       "{'b': [10, 20, 30], 'd': [10, 20, 30], 'c': [10, 20, 30], 'a': [10, 20, 30]}"
      ]
     },
     "execution_count": 29,
     "metadata": {},
     "output_type": "execute_result"
    }
   ],
   "source": [
    "keys = {'a','b','c','d'}\n",
    "value= [10,20,30]\n",
    "mydict3 = dict.fromkeys(keys,value)\n",
    "mydict3"
   ]
  },
  {
   "cell_type": "code",
   "execution_count": 31,
   "id": "0f4c73e0-22a5-4b70-80d0-6d5faee70bb3",
   "metadata": {},
   "outputs": [
    {
     "data": {
      "text/plain": [
       "{'b': [10, 20, 30, 40, 40],\n",
       " 'd': [10, 20, 30, 40, 40],\n",
       " 'c': [10, 20, 30, 40, 40],\n",
       " 'a': [10, 20, 30, 40, 40]}"
      ]
     },
     "execution_count": 31,
     "metadata": {},
     "output_type": "execute_result"
    }
   ],
   "source": [
    " value.append(40)\n",
    "mydict3"
   ]
  },
  {
   "cell_type": "markdown",
   "id": "3d504722-4c8b-406a-a792-32adfee93aa1",
   "metadata": {},
   "source": [
    " ## ACCESSING ITEMS ##"
   ]
  },
  {
   "cell_type": "code",
   "execution_count": 33,
   "id": "27b7845e-e2f8-4b00-8364-39f93b0d0855",
   "metadata": {},
   "outputs": [
    {
     "data": {
      "text/plain": [
       "{1: 'one', 2: 'two', 3: 'three', 4: 'four'}"
      ]
     },
     "execution_count": 33,
     "metadata": {},
     "output_type": "execute_result"
    }
   ],
   "source": [
    "mydict = {1:'one',2:'two',3:'three',4:'four'}\n",
    "mydict"
   ]
  },
  {
   "cell_type": "code",
   "execution_count": 35,
   "id": "5aee0fd5-42a4-4b62-a389-29c769ab1549",
   "metadata": {},
   "outputs": [
    {
     "data": {
      "text/plain": [
       "'one'"
      ]
     },
     "execution_count": 35,
     "metadata": {},
     "output_type": "execute_result"
    }
   ],
   "source": [
    "mydict[1]"
   ]
  },
  {
   "cell_type": "code",
   "execution_count": 37,
   "id": "7699f167-e481-4bb8-84b3-84aa33403f04",
   "metadata": {},
   "outputs": [
    {
     "data": {
      "text/plain": [
       "'one'"
      ]
     },
     "execution_count": 37,
     "metadata": {},
     "output_type": "execute_result"
    }
   ],
   "source": [
    "mydict.get(1)"
   ]
  },
  {
   "cell_type": "code",
   "execution_count": 39,
   "id": "b03c87a9-e2fd-41b2-949e-5c754e1a5e16",
   "metadata": {},
   "outputs": [
    {
     "data": {
      "text/plain": [
       "{'Name': 'Astif', 'ID': 7423, 'DOB': 1991, 'job': 'Analyst'}"
      ]
     },
     "execution_count": 39,
     "metadata": {},
     "output_type": "execute_result"
    }
   ],
   "source": [
    "mydict1 = {'Name':'Astif','ID':7423,'DOB': 1991,'job':'Analyst'}\n",
    "mydict1"
   ]
  },
  {
   "cell_type": "code",
   "execution_count": 41,
   "id": "883f7384-ed12-4dba-9049-ef7b3c9d1f70",
   "metadata": {},
   "outputs": [
    {
     "data": {
      "text/plain": [
       "{'Name': 'Astif', 'ID': 7423, 'DOB': 1991, 'job': 'Analyst'}"
      ]
     },
     "execution_count": 41,
     "metadata": {},
     "output_type": "execute_result"
    }
   ],
   "source": [
    "mydict1"
   ]
  },
  {
   "cell_type": "markdown",
   "id": "f7b7bad6-9d5b-4aa6-8c86-b7e7bda4a4c3",
   "metadata": {},
   "source": [
    "## ADD,REMOVE&CHANGE ITEMS ##\n"
   ]
  },
  {
   "cell_type": "code",
   "execution_count": 43,
   "id": "f9a50d4a-7faf-4995-be44-d1350f209ec3",
   "metadata": {},
   "outputs": [
    {
     "data": {
      "text/plain": [
       "{'Name': 'Asif', 'ID': 12345, 'DOB': 1981, 'Address': 'Hitech'}"
      ]
     },
     "execution_count": 43,
     "metadata": {},
     "output_type": "execute_result"
    }
   ],
   "source": [
    "mydict1 = {'Name':'Asif','ID':12345,'DOB':1981,'Address':'Hitech'}\n",
    "mydict1"
   ]
  },
  {
   "cell_type": "code",
   "execution_count": 45,
   "id": "587b1641-cd84-4233-ac43-1a80fd185a21",
   "metadata": {},
   "outputs": [],
   "source": [
    "mydict1['Job'] = 'Analyst'"
   ]
  },
  {
   "cell_type": "code",
   "execution_count": 47,
   "id": "bd3a2be9-a256-4f35-ac1a-8732f1933b91",
   "metadata": {},
   "outputs": [
    {
     "data": {
      "text/plain": [
       "{'Name': 'Asif',\n",
       " 'ID': 12345,\n",
       " 'DOB': 1981,\n",
       " 'Address': 'Hitech',\n",
       " 'Job': 'Analyst'}"
      ]
     },
     "execution_count": 47,
     "metadata": {},
     "output_type": "execute_result"
    }
   ],
   "source": [
    "mydict1"
   ]
  },
  {
   "cell_type": "code",
   "execution_count": 49,
   "id": "1c83eaa0-ea60-49e8-aafe-c1b47a558030",
   "metadata": {},
   "outputs": [
    {
     "data": {
      "text/plain": [
       "{'Name': 'Asif', 'ID': 12345, 'ADDRESS': 'Hitech'}"
      ]
     },
     "execution_count": 49,
     "metadata": {},
     "output_type": "execute_result"
    }
   ],
   "source": [
    "my_dict = {'Name':'Asif','ID':12345,'ADDRESS':'Hitech'}\n",
    "my_dict"
   ]
  },
  {
   "cell_type": "code",
   "execution_count": 51,
   "id": "b2b3fe43-3586-4025-bb3c-5497cff95814",
   "metadata": {},
   "outputs": [
    {
     "data": {
      "text/plain": [
       "{'Name': 'Asif',\n",
       " 'ID': 12345,\n",
       " 'DOB': 1995,\n",
       " 'Address': 'Hitech',\n",
       " 'Job': 'Analyst'}"
      ]
     },
     "execution_count": 51,
     "metadata": {},
     "output_type": "execute_result"
    }
   ],
   "source": [
    "dict1 = {'DOB':1995}\n",
    "mydict1.update(dict1)\n",
    "mydict1"
   ]
  },
  {
   "cell_type": "code",
   "execution_count": 53,
   "id": "7627c361-40e2-4db1-8e57-430823e3c569",
   "metadata": {},
   "outputs": [
    {
     "data": {
      "text/plain": [
       "{'Name': 'Asif',\n",
       " 'ID': 12345,\n",
       " 'DOB': 1995,\n",
       " 'Address': 'Hitech',\n",
       " 'Job': 'Analyst'}"
      ]
     },
     "execution_count": 53,
     "metadata": {},
     "output_type": "execute_result"
    }
   ],
   "source": [
    "mydict1"
   ]
  },
  {
   "cell_type": "code",
   "execution_count": 55,
   "id": "4d94abed-b95d-4226-affa-b603e09a7709",
   "metadata": {},
   "outputs": [
    {
     "ename": "KeyError",
     "evalue": "'Job'",
     "output_type": "error",
     "traceback": [
      "\u001b[1;31m---------------------------------------------------------------------------\u001b[0m",
      "\u001b[1;31mKeyError\u001b[0m                                  Traceback (most recent call last)",
      "Cell \u001b[1;32mIn[55], line 1\u001b[0m\n\u001b[1;32m----> 1\u001b[0m \u001b[43mmydict1\u001b[49m\u001b[38;5;241;43m.\u001b[39;49m\u001b[43mpop\u001b[49m\u001b[43m(\u001b[49m\u001b[38;5;124;43m'\u001b[39;49m\u001b[38;5;124;43mJob\u001b[39;49m\u001b[38;5;124;43m'\u001b[39;49m\u001b[43m)\u001b[49m\n",
      "\u001b[1;31mKeyError\u001b[0m: 'Job'"
     ]
    }
   ],
   "source": [
    "mydict1.pop('Job')"
   ]
  },
  {
   "cell_type": "code",
   "execution_count": 57,
   "id": "c157234b-6493-493d-a381-184b2d40edbe",
   "metadata": {},
   "outputs": [
    {
     "data": {
      "text/plain": [
       "{1: 'one', 2: 'two', 3: 'three', 4: 'four'}"
      ]
     },
     "execution_count": 57,
     "metadata": {},
     "output_type": "execute_result"
    }
   ],
   "source": [
    "mydict"
   ]
  },
  {
   "cell_type": "code",
   "execution_count": 59,
   "id": "08471ad8-2570-4fca-82d8-9012b406f592",
   "metadata": {},
   "outputs": [
    {
     "data": {
      "text/plain": [
       "('DOB', 1995)"
      ]
     },
     "execution_count": 59,
     "metadata": {},
     "output_type": "execute_result"
    }
   ],
   "source": [
    "mydict1.popitem()"
   ]
  },
  {
   "cell_type": "code",
   "execution_count": 61,
   "id": "f9a4646e-8f94-4948-8176-b35df36f6786",
   "metadata": {},
   "outputs": [
    {
     "data": {
      "text/plain": [
       "{'Name': 'Asif', 'ID': 12345}"
      ]
     },
     "execution_count": 61,
     "metadata": {},
     "output_type": "execute_result"
    }
   ],
   "source": [
    "mydict1"
   ]
  },
  {
   "cell_type": "code",
   "execution_count": 63,
   "id": "88286394-0104-4a99-bc0e-2fe11bd52c6a",
   "metadata": {},
   "outputs": [
    {
     "ename": "KeyError",
     "evalue": "'ID'",
     "output_type": "error",
     "traceback": [
      "\u001b[1;31m---------------------------------------------------------------------------\u001b[0m",
      "\u001b[1;31mKeyError\u001b[0m                                  Traceback (most recent call last)",
      "Cell \u001b[1;32mIn[63], line 1\u001b[0m\n\u001b[1;32m----> 1\u001b[0m \u001b[38;5;28;01mdel\u001b[39;00m [\u001b[43mmydict1\u001b[49m\u001b[43m[\u001b[49m\u001b[38;5;124;43m'\u001b[39;49m\u001b[38;5;124;43mID\u001b[39;49m\u001b[38;5;124;43m'\u001b[39;49m\u001b[43m]\u001b[49m]\n\u001b[0;32m      2\u001b[0m mydict1\n",
      "\u001b[1;31mKeyError\u001b[0m: 'ID'"
     ]
    }
   ],
   "source": [
    "del [mydict1['ID']]\n",
    "mydict1"
   ]
  },
  {
   "cell_type": "code",
   "execution_count": 65,
   "id": "4e3b1190-16b7-429a-a92b-143e9a56b680",
   "metadata": {},
   "outputs": [],
   "source": [
    "mydict1.clear()"
   ]
  },
  {
   "cell_type": "markdown",
   "id": "10985733-51f3-4f14-9150-83e937dbe4de",
   "metadata": {},
   "source": [
    "## COPY DICTIONARY ##"
   ]
  },
  {
   "cell_type": "code",
   "execution_count": 67,
   "id": "aba9b3e1-b3f9-4df0-82e0-585f873e69a6",
   "metadata": {},
   "outputs": [
    {
     "data": {
      "text/plain": [
       "{'Name': 'Asitf', 'ID': 12345, 'DOB': 1991, 'Address': 'Mumbai'}"
      ]
     },
     "execution_count": 67,
     "metadata": {},
     "output_type": "execute_result"
    }
   ],
   "source": [
    "mydict = {'Name':'Asitf','ID':12345,'DOB':1991,'Address':'Mumbai't = {'Name':'Asitf','ID':12345,'DOB':1991,'Address':'Mumbai'"
   ]
  },
  {
   "cell_type": "code",
   "execution_count": 70,
   "id": "e979836a-8df8-4edc-98f7-3f20a5387e25",
   "metadata": {},
   "outputs": [
    {
     "data": {
      "text/plain": [
       "{'Name': 'Asitf', 'ID': 12345, 'DOB': 1991, 'Address': 'Mumbai'}"
      ]
     },
     "execution_count": 70,
     "metadata": {},
     "output_type": "execute_result"
    }
   ],
   "source": [
    "mydict1 = mydict\n",
    "mydict1"
   ]
  },
  {
   "cell_type": "code",
   "execution_count": 72,
   "id": "400bafc8-9346-4919-b60f-fba5630f87ee",
   "metadata": {},
   "outputs": [
    {
     "data": {
      "text/plain": [
       "{'Name': 'Asitf', 'ID': 12345, 'DOB': 1991, 'Address': 'Mumbai'}"
      ]
     },
     "execution_count": 72,
     "metadata": {},
     "output_type": "execute_result"
    }
   ],
   "source": [
    "mydict = mydict.copy()\n",
    "mydict"
   ]
  },
  {
   "cell_type": "code",
   "execution_count": 74,
   "id": "c4ee3e9a-8071-4f8e-97bb-168ebb8286bc",
   "metadata": {},
   "outputs": [
    {
     "data": {
      "text/plain": [
       "{'Name': 'Asitf', 'ID': 12345, 'DOB': 1991, 'Address': 'New Delhi'}"
      ]
     },
     "execution_count": 74,
     "metadata": {},
     "output_type": "execute_result"
    }
   ],
   "source": [
    "mydict['Address'] = 'New Delhi'\n",
    "mydict"
   ]
  },
  {
   "cell_type": "markdown",
   "id": "d29acfa8-4c26-436f-93e8-0969010b8ee0",
   "metadata": {},
   "source": [
    "## LOOP THROUGH DICTIONARY ##"
   ]
  },
  {
   "cell_type": "code",
   "execution_count": 76,
   "id": "56986e24-0560-482f-8f96-2bade51601f0",
   "metadata": {},
   "outputs": [],
   "source": [
    "mydict1 = {'Name':'Asitf','ID':12345,'DOB':1991,'Address':'Mumbai'}"
   ]
  },
  {
   "cell_type": "code",
   "execution_count": 78,
   "id": "a60d99d1-d7df-4eed-98a8-5d4a247513b6",
   "metadata": {},
   "outputs": [
    {
     "data": {
      "text/plain": [
       "{'Name': 'Asitf', 'ID': 12345, 'DOB': 1991, 'Address': 'Mumbai'}"
      ]
     },
     "execution_count": 78,
     "metadata": {},
     "output_type": "execute_result"
    }
   ],
   "source": [
    "mydict1"
   ]
  },
  {
   "cell_type": "code",
   "execution_count": 80,
   "id": "55259317-7325-43e8-afa0-1943d8c5590d",
   "metadata": {},
   "outputs": [
    {
     "name": "stdout",
     "output_type": "stream",
     "text": [
      "Name : Asitf\n",
      "ID : 12345\n",
      "DOB : 1991\n",
      "Address : New Delhi\n"
     ]
    }
   ],
   "source": [
    "for  i in mydict1:\n",
    "    print(i,':',mydict[i])"
   ]
  },
  {
   "cell_type": "markdown",
   "id": "14fde10b-a921-471f-9076-08bad733d6ec",
   "metadata": {},
   "source": [
    "## DICTIONARY MEMBERSHIP ##"
   ]
  },
  {
   "cell_type": "code",
   "execution_count": 82,
   "id": "303d51c3-464e-4fad-84ab-67f1a5bb2264",
   "metadata": {},
   "outputs": [
    {
     "data": {
      "text/plain": [
       "True"
      ]
     },
     "execution_count": 82,
     "metadata": {},
     "output_type": "execute_result"
    }
   ],
   "source": [
    "'Name' in mydict1"
   ]
  },
  {
   "cell_type": "code",
   "execution_count": 84,
   "id": "3c35cfb1-5b64-4fa4-b83f-13d525c25677",
   "metadata": {},
   "outputs": [
    {
     "data": {
      "text/plain": [
       "False"
      ]
     },
     "execution_count": 84,
     "metadata": {},
     "output_type": "execute_result"
    }
   ],
   "source": [
    "'Astif' in mydict1"
   ]
  },
  {
   "cell_type": "code",
   "execution_count": 86,
   "id": "3657574d-2616-4b91-b909-e26237c015b5",
   "metadata": {},
   "outputs": [
    {
     "data": {
      "text/plain": [
       "True"
      ]
     },
     "execution_count": 86,
     "metadata": {},
     "output_type": "execute_result"
    }
   ],
   "source": [
    "'ID' in mydict1"
   ]
  },
  {
   "cell_type": "markdown",
   "id": "bfebea83-7a38-4230-bc8e-ffed8a3dd082",
   "metadata": {},
   "source": [
    " ## ALL / Any ## "
   ]
  },
  {
   "cell_type": "code",
   "execution_count": 88,
   "id": "59cf4266-9a16-4fb0-af27-9e555be2c7d4",
   "metadata": {},
   "outputs": [
    {
     "data": {
      "text/plain": [
       "{'Name': 'Asif', 'ID': 12345, 'DOB': 1991, 'job': 'Analyst'}"
      ]
     },
     "execution_count": 88,
     "metadata": {},
     "output_type": "execute_result"
    }
   ],
   "source": [
    "mydict1 = {'Name':'Asif','ID':12345,'DOB':1991,'job':'Analyst'}\n",
    "mydict1"
   ]
  },
  {
   "cell_type": "code",
   "execution_count": 89,
   "id": "dad70f90-b431-4662-aac9-be8d229913d0",
   "metadata": {},
   "outputs": [
    {
     "data": {
      "text/plain": [
       "True"
      ]
     },
     "execution_count": 89,
     "metadata": {},
     "output_type": "execute_result"
    }
   ],
   "source": [
    "all(dict1)"
   ]
  }
 ],
 "metadata": {
  "kernelspec": {
   "display_name": "Python 3 (ipykernel)",
   "language": "python",
   "name": "python3"
  },
  "language_info": {
   "codemirror_mode": {
    "name": "ipython",
    "version": 3
   },
   "file_extension": ".py",
   "mimetype": "text/x-python",
   "name": "python",
   "nbconvert_exporter": "python",
   "pygments_lexer": "ipython3",
   "version": "3.12.7"
  }
 },
 "nbformat": 4,
 "nbformat_minor": 5
}
